{
 "cells": [
  {
   "cell_type": "code",
   "execution_count": 1,
   "metadata": {},
   "outputs": [
    {
     "name": "stdout",
     "output_type": "stream",
     "text": [
      "Read successful\n"
     ]
    }
   ],
   "source": [
    "import pandas as pd\n",
    "import numpy as np\n",
    "import matplotlib.pyplot as plt\n",
    "import os\n",
    "import config as conf"
   ]
  },
  {
   "cell_type": "code",
   "execution_count": 2,
   "metadata": {},
   "outputs": [],
   "source": [
    "# read data\n",
    "cwd = os.getcwd()\n",
    "filepath = os.path.join(cwd, 'Data', 'Input_Data', 'Allegheny_sample_xd_part1', 'Allegheny_sample_xd_part1.csv')\n",
    "df = pd.read_csv(filepath)\n",
    "filepath = os.path.join(cwd, 'Data', 'Input_Data', 'Allegheny_sample_xd_part1', 'XD_Identification.csv')\n",
    "df_xd = pd.read_csv(filepath)\n"
   ]
  },
  {
   "cell_type": "code",
   "execution_count": 3,
   "metadata": {},
   "outputs": [],
   "source": [
    "time_start = conf.config_data['Time_Intervals']['time_start']*3600 # seconds start after midnight\n",
    "time_end = conf.config_data['Time_Intervals']['time_end']*3600 # seconds end after midnight\n",
    "num_intervals = int((time_end-time_start) / conf.config_data['Time_Intervals']['interval_spacing']) # + 1)\n",
    "interval_spacing = conf.config_data['Time_Intervals']['interval_spacing']  # seconds"
   ]
  },
  {
   "cell_type": "code",
   "execution_count": 5,
   "metadata": {},
   "outputs": [],
   "source": [
    "# observe: inrix data is on level of every 5 min. we want to convert to every 20 sec\n",
    "# construct a new df to account for the fact that inrix data is on level of 5 min. we want every (interval_spacing) sec\n",
    "sec_after_midnight = np.arange(time_start, time_end, interval_spacing)\n",
    "\n",
    "def extend_inrix_data(inrix_df, ratio_name):\n",
    "    inrix_spacing = 300 # 5 min*60 sec/min\n",
    "    interval_spacing = conf.config_data['Time_Intervals']['interval_spacing']  # seconds\n",
    "    df_ext = pd.DataFrame(columns=['frc','sec_after_midnight', ratio_name])\n",
    "    for frc in [2,3,4]:\n",
    "        df = inrix_df[inrix_df['frc'] == frc]\n",
    "        ratio_rep = np.repeat(df[ratio_name].values, repeats=inrix_spacing/interval_spacing, axis=0)\n",
    "        frc_arr = frc*np.ones((len(sec_after_midnight)))\n",
    "        df_ext = pd.concat([df_ext, pd.DataFrame(np.column_stack((frc_arr, sec_after_midnight, ratio_rep)), columns=['frc','sec_after_midnight', ratio_name])], ignore_index=True)\n",
    "    df_ext['frc'] = df_ext['frc'].astype('int')\n",
    "    return(df_ext)"
   ]
  },
  {
   "cell_type": "code",
   "execution_count": 6,
   "metadata": {},
   "outputs": [
    {
     "data": {
      "text/html": [
       "<div>\n",
       "<style scoped>\n",
       "    .dataframe tbody tr th:only-of-type {\n",
       "        vertical-align: middle;\n",
       "    }\n",
       "\n",
       "    .dataframe tbody tr th {\n",
       "        vertical-align: top;\n",
       "    }\n",
       "\n",
       "    .dataframe thead th {\n",
       "        text-align: right;\n",
       "    }\n",
       "</style>\n",
       "<table border=\"1\" class=\"dataframe\">\n",
       "  <thead>\n",
       "    <tr style=\"text-align: right;\">\n",
       "      <th></th>\n",
       "      <th>xd</th>\n",
       "      <th>road-name</th>\n",
       "      <th>road-num</th>\n",
       "      <th>bearing</th>\n",
       "      <th>miles</th>\n",
       "      <th>frc</th>\n",
       "      <th>county</th>\n",
       "      <th>state</th>\n",
       "      <th>zip</th>\n",
       "      <th>timezone_name</th>\n",
       "      <th>start_latitude</th>\n",
       "      <th>start_longitude</th>\n",
       "      <th>end_latitude</th>\n",
       "      <th>end_longitude</th>\n",
       "    </tr>\n",
       "  </thead>\n",
       "  <tbody>\n",
       "    <tr>\n",
       "      <th>0</th>\n",
       "      <td>133749395</td>\n",
       "      <td>STOWE AVE</td>\n",
       "      <td>NaN</td>\n",
       "      <td>N</td>\n",
       "      <td>0.255702</td>\n",
       "      <td>5</td>\n",
       "      <td>ALLEGHENY</td>\n",
       "      <td>PA</td>\n",
       "      <td>15136</td>\n",
       "      <td>America/New_York</td>\n",
       "      <td>40.477290</td>\n",
       "      <td>-80.066790</td>\n",
       "      <td>40.480550</td>\n",
       "      <td>-80.069040</td>\n",
       "    </tr>\n",
       "    <tr>\n",
       "      <th>1</th>\n",
       "      <td>1310381477</td>\n",
       "      <td>PA-28 S</td>\n",
       "      <td>28.0</td>\n",
       "      <td>S</td>\n",
       "      <td>0.592731</td>\n",
       "      <td>2</td>\n",
       "      <td>ALLEGHENY</td>\n",
       "      <td>PA</td>\n",
       "      <td>15065</td>\n",
       "      <td>America/New_York</td>\n",
       "      <td>40.649637</td>\n",
       "      <td>-79.723247</td>\n",
       "      <td>40.641602</td>\n",
       "      <td>-79.720442</td>\n",
       "    </tr>\n",
       "    <tr>\n",
       "      <th>2</th>\n",
       "      <td>387978180</td>\n",
       "      <td>BEECHNUT DR</td>\n",
       "      <td>NaN</td>\n",
       "      <td>S</td>\n",
       "      <td>0.092597</td>\n",
       "      <td>5</td>\n",
       "      <td>ALLEGHENY</td>\n",
       "      <td>PA</td>\n",
       "      <td>15205</td>\n",
       "      <td>America/New_York</td>\n",
       "      <td>40.453990</td>\n",
       "      <td>-80.082340</td>\n",
       "      <td>40.453040</td>\n",
       "      <td>-80.083580</td>\n",
       "    </tr>\n",
       "    <tr>\n",
       "      <th>3</th>\n",
       "      <td>133749397</td>\n",
       "      <td>MONONGAHELA AVE</td>\n",
       "      <td>NaN</td>\n",
       "      <td>S</td>\n",
       "      <td>0.065070</td>\n",
       "      <td>5</td>\n",
       "      <td>ALLEGHENY</td>\n",
       "      <td>PA</td>\n",
       "      <td>15218</td>\n",
       "      <td>America/New_York</td>\n",
       "      <td>40.421920</td>\n",
       "      <td>-79.890390</td>\n",
       "      <td>40.421070</td>\n",
       "      <td>-79.889860</td>\n",
       "    </tr>\n",
       "    <tr>\n",
       "      <th>4</th>\n",
       "      <td>132943890</td>\n",
       "      <td>MULLBERRY WAY</td>\n",
       "      <td>NaN</td>\n",
       "      <td>W</td>\n",
       "      <td>0.076291</td>\n",
       "      <td>5</td>\n",
       "      <td>ALLEGHENY</td>\n",
       "      <td>PA</td>\n",
       "      <td>15222</td>\n",
       "      <td>America/New_York</td>\n",
       "      <td>40.448350</td>\n",
       "      <td>-79.989070</td>\n",
       "      <td>40.447630</td>\n",
       "      <td>-79.990170</td>\n",
       "    </tr>\n",
       "  </tbody>\n",
       "</table>\n",
       "</div>"
      ],
      "text/plain": [
       "           xd        road-name  road-num bearing     miles  frc     county  \\\n",
       "0   133749395        STOWE AVE       NaN       N  0.255702    5  ALLEGHENY   \n",
       "1  1310381477          PA-28 S      28.0       S  0.592731    2  ALLEGHENY   \n",
       "2   387978180      BEECHNUT DR       NaN       S  0.092597    5  ALLEGHENY   \n",
       "3   133749397  MONONGAHELA AVE       NaN       S  0.065070    5  ALLEGHENY   \n",
       "4   132943890    MULLBERRY WAY       NaN       W  0.076291    5  ALLEGHENY   \n",
       "\n",
       "  state    zip     timezone_name  start_latitude  start_longitude  \\\n",
       "0    PA  15136  America/New_York       40.477290       -80.066790   \n",
       "1    PA  15065  America/New_York       40.649637       -79.723247   \n",
       "2    PA  15205  America/New_York       40.453990       -80.082340   \n",
       "3    PA  15218  America/New_York       40.421920       -79.890390   \n",
       "4    PA  15222  America/New_York       40.448350       -79.989070   \n",
       "\n",
       "   end_latitude  end_longitude  \n",
       "0     40.480550     -80.069040  \n",
       "1     40.641602     -79.720442  \n",
       "2     40.453040     -80.083580  \n",
       "3     40.421070     -79.889860  \n",
       "4     40.447630     -79.990170  "
      ]
     },
     "execution_count": 6,
     "metadata": {},
     "output_type": "execute_result"
    }
   ],
   "source": [
    "df_xd.head()"
   ]
  },
  {
   "cell_type": "code",
   "execution_count": 9,
   "metadata": {},
   "outputs": [
    {
     "data": {
      "text/plain": [
       "array(['PA-28 S', 'I-376 E', 'I-279 S', 'US-22 E', 'I-579 N',\n",
       "       'STEUBENVILLE PIKE', 'FORT PITT BLVD', nan, 'INDIANOLA RD',\n",
       "       'WILLIAM PENN HWY', '60A', 'I-376 W', 'EAST ST', 'PA-28 N',\n",
       "       'PITTSBURGH INTERCHANGE', 'ALLEGHENY VALLEY INTERCHANGE', '39-2',\n",
       "       'I-279 N', 'PA-576-TPKE W', '57', '67-359', '59B', '64A',\n",
       "       'US-22 W', '59A', 'FREEPORT RD', 'I-279', '72B', '11', '85',\n",
       "       'E OHIO ST', 'MADISON AVE', '2A', '1A', 'PA-60 S', '1B', 'I-579 S',\n",
       "       '2B', 'PA-60 N', 'PA-576-TPKE E', '53', 'US-22-BR'], dtype=object)"
      ]
     },
     "execution_count": 9,
     "metadata": {},
     "output_type": "execute_result"
    }
   ],
   "source": [
    "df_xd[df_xd['frc']==2]['road-name'].unique()"
   ]
  },
  {
   "cell_type": "code",
   "execution_count": 10,
   "metadata": {},
   "outputs": [],
   "source": [
    "# merge tt with id data\n",
    "df_merge = df.merge(df_xd, how='inner', left_on='xd_id', right_on='xd')"
   ]
  },
  {
   "cell_type": "code",
   "execution_count": 11,
   "metadata": {},
   "outputs": [
    {
     "data": {
      "text/html": [
       "<div>\n",
       "<style scoped>\n",
       "    .dataframe tbody tr th:only-of-type {\n",
       "        vertical-align: middle;\n",
       "    }\n",
       "\n",
       "    .dataframe tbody tr th {\n",
       "        vertical-align: top;\n",
       "    }\n",
       "\n",
       "    .dataframe thead th {\n",
       "        text-align: right;\n",
       "    }\n",
       "</style>\n",
       "<table border=\"1\" class=\"dataframe\">\n",
       "  <thead>\n",
       "    <tr style=\"text-align: right;\">\n",
       "      <th></th>\n",
       "      <th>xd_id</th>\n",
       "      <th>measurement_tstamp</th>\n",
       "      <th>speed</th>\n",
       "      <th>average_speed</th>\n",
       "      <th>reference_speed</th>\n",
       "      <th>travel_time_seconds</th>\n",
       "      <th>confidence_score</th>\n",
       "      <th>cvalue</th>\n",
       "      <th>xd</th>\n",
       "      <th>road-name</th>\n",
       "      <th>...</th>\n",
       "      <th>miles</th>\n",
       "      <th>frc</th>\n",
       "      <th>county</th>\n",
       "      <th>state</th>\n",
       "      <th>zip</th>\n",
       "      <th>timezone_name</th>\n",
       "      <th>start_latitude</th>\n",
       "      <th>start_longitude</th>\n",
       "      <th>end_latitude</th>\n",
       "      <th>end_longitude</th>\n",
       "    </tr>\n",
       "  </thead>\n",
       "  <tbody>\n",
       "    <tr>\n",
       "      <th>0</th>\n",
       "      <td>133749395</td>\n",
       "      <td>2022-09-01 00:00:00</td>\n",
       "      <td>22.0</td>\n",
       "      <td>22.0</td>\n",
       "      <td>22.0</td>\n",
       "      <td>41.84</td>\n",
       "      <td>10.0</td>\n",
       "      <td>NaN</td>\n",
       "      <td>133749395</td>\n",
       "      <td>STOWE AVE</td>\n",
       "      <td>...</td>\n",
       "      <td>0.255702</td>\n",
       "      <td>5</td>\n",
       "      <td>ALLEGHENY</td>\n",
       "      <td>PA</td>\n",
       "      <td>15136</td>\n",
       "      <td>America/New_York</td>\n",
       "      <td>40.47729</td>\n",
       "      <td>-80.06679</td>\n",
       "      <td>40.48055</td>\n",
       "      <td>-80.06904</td>\n",
       "    </tr>\n",
       "    <tr>\n",
       "      <th>1</th>\n",
       "      <td>133749395</td>\n",
       "      <td>2022-09-01 00:05:00</td>\n",
       "      <td>22.0</td>\n",
       "      <td>22.0</td>\n",
       "      <td>22.0</td>\n",
       "      <td>41.84</td>\n",
       "      <td>10.0</td>\n",
       "      <td>NaN</td>\n",
       "      <td>133749395</td>\n",
       "      <td>STOWE AVE</td>\n",
       "      <td>...</td>\n",
       "      <td>0.255702</td>\n",
       "      <td>5</td>\n",
       "      <td>ALLEGHENY</td>\n",
       "      <td>PA</td>\n",
       "      <td>15136</td>\n",
       "      <td>America/New_York</td>\n",
       "      <td>40.47729</td>\n",
       "      <td>-80.06679</td>\n",
       "      <td>40.48055</td>\n",
       "      <td>-80.06904</td>\n",
       "    </tr>\n",
       "    <tr>\n",
       "      <th>2</th>\n",
       "      <td>133749395</td>\n",
       "      <td>2022-09-01 00:10:00</td>\n",
       "      <td>22.0</td>\n",
       "      <td>22.0</td>\n",
       "      <td>22.0</td>\n",
       "      <td>41.84</td>\n",
       "      <td>10.0</td>\n",
       "      <td>NaN</td>\n",
       "      <td>133749395</td>\n",
       "      <td>STOWE AVE</td>\n",
       "      <td>...</td>\n",
       "      <td>0.255702</td>\n",
       "      <td>5</td>\n",
       "      <td>ALLEGHENY</td>\n",
       "      <td>PA</td>\n",
       "      <td>15136</td>\n",
       "      <td>America/New_York</td>\n",
       "      <td>40.47729</td>\n",
       "      <td>-80.06679</td>\n",
       "      <td>40.48055</td>\n",
       "      <td>-80.06904</td>\n",
       "    </tr>\n",
       "    <tr>\n",
       "      <th>3</th>\n",
       "      <td>133749395</td>\n",
       "      <td>2022-09-01 00:15:00</td>\n",
       "      <td>22.0</td>\n",
       "      <td>22.0</td>\n",
       "      <td>22.0</td>\n",
       "      <td>41.84</td>\n",
       "      <td>10.0</td>\n",
       "      <td>NaN</td>\n",
       "      <td>133749395</td>\n",
       "      <td>STOWE AVE</td>\n",
       "      <td>...</td>\n",
       "      <td>0.255702</td>\n",
       "      <td>5</td>\n",
       "      <td>ALLEGHENY</td>\n",
       "      <td>PA</td>\n",
       "      <td>15136</td>\n",
       "      <td>America/New_York</td>\n",
       "      <td>40.47729</td>\n",
       "      <td>-80.06679</td>\n",
       "      <td>40.48055</td>\n",
       "      <td>-80.06904</td>\n",
       "    </tr>\n",
       "    <tr>\n",
       "      <th>4</th>\n",
       "      <td>133749395</td>\n",
       "      <td>2022-09-01 00:20:00</td>\n",
       "      <td>22.0</td>\n",
       "      <td>22.0</td>\n",
       "      <td>22.0</td>\n",
       "      <td>41.84</td>\n",
       "      <td>10.0</td>\n",
       "      <td>NaN</td>\n",
       "      <td>133749395</td>\n",
       "      <td>STOWE AVE</td>\n",
       "      <td>...</td>\n",
       "      <td>0.255702</td>\n",
       "      <td>5</td>\n",
       "      <td>ALLEGHENY</td>\n",
       "      <td>PA</td>\n",
       "      <td>15136</td>\n",
       "      <td>America/New_York</td>\n",
       "      <td>40.47729</td>\n",
       "      <td>-80.06679</td>\n",
       "      <td>40.48055</td>\n",
       "      <td>-80.06904</td>\n",
       "    </tr>\n",
       "  </tbody>\n",
       "</table>\n",
       "<p>5 rows × 22 columns</p>\n",
       "</div>"
      ],
      "text/plain": [
       "       xd_id   measurement_tstamp  speed  average_speed  reference_speed  \\\n",
       "0  133749395  2022-09-01 00:00:00   22.0           22.0             22.0   \n",
       "1  133749395  2022-09-01 00:05:00   22.0           22.0             22.0   \n",
       "2  133749395  2022-09-01 00:10:00   22.0           22.0             22.0   \n",
       "3  133749395  2022-09-01 00:15:00   22.0           22.0             22.0   \n",
       "4  133749395  2022-09-01 00:20:00   22.0           22.0             22.0   \n",
       "\n",
       "   travel_time_seconds  confidence_score  cvalue         xd  road-name  ...  \\\n",
       "0                41.84              10.0     NaN  133749395  STOWE AVE  ...   \n",
       "1                41.84              10.0     NaN  133749395  STOWE AVE  ...   \n",
       "2                41.84              10.0     NaN  133749395  STOWE AVE  ...   \n",
       "3                41.84              10.0     NaN  133749395  STOWE AVE  ...   \n",
       "4                41.84              10.0     NaN  133749395  STOWE AVE  ...   \n",
       "\n",
       "      miles frc     county  state    zip     timezone_name  start_latitude  \\\n",
       "0  0.255702   5  ALLEGHENY     PA  15136  America/New_York        40.47729   \n",
       "1  0.255702   5  ALLEGHENY     PA  15136  America/New_York        40.47729   \n",
       "2  0.255702   5  ALLEGHENY     PA  15136  America/New_York        40.47729   \n",
       "3  0.255702   5  ALLEGHENY     PA  15136  America/New_York        40.47729   \n",
       "4  0.255702   5  ALLEGHENY     PA  15136  America/New_York        40.47729   \n",
       "\n",
       "  start_longitude  end_latitude  end_longitude  \n",
       "0       -80.06679      40.48055      -80.06904  \n",
       "1       -80.06679      40.48055      -80.06904  \n",
       "2       -80.06679      40.48055      -80.06904  \n",
       "3       -80.06679      40.48055      -80.06904  \n",
       "4       -80.06679      40.48055      -80.06904  \n",
       "\n",
       "[5 rows x 22 columns]"
      ]
     },
     "execution_count": 11,
     "metadata": {},
     "output_type": "execute_result"
    }
   ],
   "source": [
    "df_merge.head()"
   ]
  },
  {
   "cell_type": "code",
   "execution_count": 12,
   "metadata": {},
   "outputs": [],
   "source": [
    "def add_time_cols(df, datetime_col):\n",
    "    df = df.copy()\n",
    "    df['month'] = df[datetime_col].dt.month\n",
    "    df['day'] = df[datetime_col].dt.day\n",
    "    df['time'] = df[datetime_col].dt.time\n",
    "    df['hour'] = df[datetime_col].dt.hour\n",
    "    df['minute'] = df[datetime_col].dt.minute\n",
    "    return df"
   ]
  },
  {
   "cell_type": "code",
   "execution_count": 13,
   "metadata": {},
   "outputs": [],
   "source": [
    "# get variation across x hour period \n",
    "def intraday_variation(df, frc, hour_start, hour_end):\n",
    "    df = df.copy()\n",
    "    df = df[df['frc'] == frc]\n",
    "    condition = (df.day == 1) & (df.hour.between(hour_start,hour_end-1))  # day = 1 for a single representative day\n",
    "    df_time = df[condition]\n",
    "    df_grouped = df_time.groupby('measurement_tstamp')[['hour','minute','travel_time_seconds']].mean().reset_index()  # for the given frc, take the mean travel time at a timestamp\n",
    "    return df_grouped\n",
    "    # # make plot\n",
    "    # fig, ax = plt.subplots()\n",
    "    # ax.plot(df_grouped.measurement_tstamp, df_grouped.travel_time_seconds)\n",
    "    # ax.set_title('FRC =' + str(frc))\n",
    "    # ax.set_xlabel('time')\n",
    "    # ax.set_ylabel('travel time (s)')\n",
    "    # ax.tick_params(axis='x', rotation=90)\n",
    "\n"
   ]
  },
  {
   "cell_type": "code",
   "execution_count": 34,
   "metadata": {},
   "outputs": [
    {
     "data": {
      "text/plain": [
       "7"
      ]
     },
     "execution_count": 34,
     "metadata": {},
     "output_type": "execute_result"
    }
   ],
   "source": [
    "#df.hour.unique().astype('int')"
   ]
  },
  {
   "cell_type": "code",
   "execution_count": 35,
   "metadata": {},
   "outputs": [],
   "source": [
    "# add datetime columns\n",
    "df_merge['measurement_tstamp'] = pd.to_datetime(df_merge['measurement_tstamp']) \n",
    "df_merge = add_time_cols(df_merge, 'measurement_tstamp')\n",
    "tt_ratios = []\n",
    "for frc in df_merge.frc.unique():\n",
    "    df_intraday_frc = intraday_variation(df_merge, frc, int(time_start/3600), int(time_end/3600))  # hour | minute | mean_travel_time (for selected frc)\n",
    "    for hr in df_intraday_frc.hour.unique().astype('int'):\n",
    "        for min in range(0,60,5):  # inrix data is every 5 min\n",
    "            # get the base case travel time associated with the 7am\n",
    "            condition = (df_intraday_frc['hour'] == int(time_start/3600)) & (df_intraday_frc['minute'] == 0)\n",
    "            base_time = df_intraday_frc[condition]['travel_time_seconds'].values[0]\n",
    "            # get the travel time at the new timestamp\n",
    "            condition = (df_intraday_frc['hour'] == hr) & (df_intraday_frc['minute'] == min)\n",
    "            tt_timestamp = df_intraday_frc[condition]['travel_time_seconds'].values[0]\n",
    "            # check the ratio between tt_timestamp and the base_time. if less than 1, adjust it to 1 since it makes sense to assume 7am is free flow\n",
    "            tt_ratio = round(max(tt_timestamp/base_time, 1), 3)\n",
    "            tt_ratios.append((frc, hr, min, tt_ratio))\n",
    "# create a lookup table\n",
    "df_tt_ratios = pd.DataFrame(tt_ratios, columns =['frc', 'hr', 'min', 'tt_ratio']).sort_values(by=['frc','hr','min'])"
   ]
  },
  {
   "cell_type": "code",
   "execution_count": 47,
   "metadata": {},
   "outputs": [
    {
     "data": {
      "text/plain": [
       "<matplotlib.collections.PathCollection at 0x7f486dedc160>"
      ]
     },
     "execution_count": 47,
     "metadata": {},
     "output_type": "execute_result"
    },
    {
     "data": {
      "image/png": "[encoded data removed]",
      "text/plain": [
       "<Figure size 640x480 with 1 Axes>"
      ]
     },
     "metadata": {},
     "output_type": "display_data"
    }
   ],
   "source": [
    "df_test = df_tt_ratios[df_tt_ratios['frc']==2]\n",
    "plt.scatter(x=df_test.index, y=df_test['tt_ratio'])\n",
    "#df_test.head(30)"
   ]
  },
  {
   "cell_type": "code",
   "execution_count": 53,
   "metadata": {},
   "outputs": [],
   "source": [
    "df_tt_ratio_ext = extend_inrix_data(df_tt_ratios, 'tt_ratio').sort_values(by=['frc','sec_after_midnight'])  # extend the data \n",
    "# df_plot = df_tt_ratio_ext[df_tt_ratio_ext['frc']==2]\n",
    "# plt.scatter(x=df_plot.index, y=df_plot['tt_ratio'])\n",
    "# save as csv\n",
    "path = os.path.join(cwd, 'Data', 'Output_Data', 'intraday_travel_time_ratio.csv')\n",
    "df_tt_ratio_ext.to_csv(path, index=False)"
   ]
  },
  {
   "cell_type": "code",
   "execution_count": 54,
   "metadata": {},
   "outputs": [],
   "source": [
    "def day2day_variation(df, frc, hour, minute):\n",
    "    df = df.copy()\n",
    "    df = df[df['frc'] == frc] # subset by frc\n",
    "    df = df[(df['hour']==hour) & (df['minute']==minute)]  # subset by hour and minute\n",
    "    df_day = df.groupby('day')[['hour', 'minute', 'travel_time_seconds']].mean().sort_values(by='travel_time_seconds', ascending=True)\n",
    "    #df_day.reset_index(inplace=True)\n",
    "    #fig,ax = plt.subplots()\n",
    "    #ax.scatter(x=df_day.index, y=df_day['travel_time_seconds'])\n",
    "    minTT = df_day['travel_time_seconds'].min()\n",
    "    maxTT = df_day['travel_time_seconds'].max()\n",
    "    reliability_ratio = maxTT/minTT\n",
    "    #print(reliability_ratio)\n",
    "    return(reliability_ratio)"
   ]
  },
  {
   "cell_type": "code",
   "execution_count": 56,
   "metadata": {},
   "outputs": [],
   "source": [
    "hour_start = time_start/3600\n",
    "hour_end = time_end/3600\n",
    "frc_hr_min = [(frc,hr,min) for frc in df_merge.frc.unique() for hr in [hour_start, hour_end-1] for min in range(0,60,5)]\n",
    "rel_ratio = [day2day_variation(df_merge, frc, hr, min) for frc in df_merge.frc.unique() for hr in [hour_start, hour_end-1] for min in range(0,60,5)]"
   ]
  },
  {
   "cell_type": "code",
   "execution_count": 57,
   "metadata": {},
   "outputs": [],
   "source": [
    "#frc_hr_min = [(frc,hr,min) for frc in range(1,6) for hr in [hour_start, hour_end-1] for min in range(0,60,5)]\n",
    "frc_hr_min_list = list(zip(*frc_hr_min))\n",
    "frcs = frc_hr_min_list[0]\n",
    "hrs = frc_hr_min_list[1]\n",
    "mins = frc_hr_min_list[2]\n",
    "# Calling DataFrame constructor after zipping\n",
    "# lists, with columns specified\n",
    "df_rel_ratio = pd.DataFrame(list(zip(frcs, hrs, mins, rel_ratio)), columns =['frc', 'hr', 'min', 'rel_ratio'])\n",
    "df_rel_ratio.head()  # this df will serve as a lookup table. \n",
    "\n",
    "# save df_rel_ratio to Output_Data\n",
    "path = os.path.join(cwd, 'Data', 'Output_Data', 'reliability_ratio.csv')\n",
    "df_rel_ratio_ext = extend_inrix_data(df_rel_ratio, 'rel_ratio') # extend the data to be every [interval_spacing] sec as opposed to inrix 5 min\n",
    "df_rel_ratio_ext.to_csv(path, index=False)"
   ]
  },
  {
   "cell_type": "code",
   "execution_count": 59,
   "metadata": {},
   "outputs": [
    {
     "data": {
      "text/plain": [
       "<matplotlib.collections.PathCollection at 0x7f489416c940>"
      ]
     },
     "execution_count": 59,
     "metadata": {},
     "output_type": "execute_result"
    },
    {
     "data": {
      "image/png": "[encoded data removed]",
      "text/plain": [
       "<Figure size 640x480 with 1 Axes>"
      ]
     },
     "metadata": {},
     "output_type": "display_data"
    }
   ],
   "source": [
    "df_plot = df_rel_ratio_ext[df_rel_ratio_ext['frc']==2]\n",
    "plt.scatter(x=df_plot.index, y=df_plot['rel_ratio'])"
   ]
  },
  {
   "cell_type": "code",
   "execution_count": null,
   "metadata": {},
   "outputs": [],
   "source": [
    "# now find reliability i.e. 95th percentile travel time. use all 10 days\n",
    "#day2day_variation(df_merge)\n",
    "\n",
    "# test for 7:30\n",
    "hour = 7\n",
    "minute = 30\n",
    "df_specific_time = df_merge[(df_merge['hour']==7) & (df_merge['minute']==30)]\n",
    "df_specific_time.head()\n"
   ]
  },
  {
   "cell_type": "code",
   "execution_count": null,
   "metadata": {},
   "outputs": [],
   "source": [
    "df_specific_time = df_specific_time[df_specific_time['frc'] == frc]\n",
    "df_day = df_specific_time.groupby('day')[['measurement_tstamp','travel_time_seconds']].mean().sort_values(by='travel_time_seconds', ascending=True)\n",
    "#df_day.reset_index(inplace=True)\n",
    "fig,ax = plt.subplots()\n",
    "ax.scatter(x=df_day.index, y=df_day['travel_time_seconds'])\n",
    "minTT = df_day['travel_time_seconds'].min()\n",
    "maxTT = df_day['travel_time_seconds'].max()\n",
    "reliability_ratio = maxTT/minTT\n",
    "print(reliability_ratio)\n"
   ]
  },
  {
   "cell_type": "code",
   "execution_count": null,
   "metadata": {},
   "outputs": [],
   "source": [
    "condition = (df_test.day == 1) & (df_test.hour.between(7,9)) \n",
    "df_79 = df_test[condition]\n",
    "df_79['smoothed_tt'] = df_79['travel_time_seconds'].rolling(5).mean()\n",
    "fig, ax = plt.subplots()\n",
    "ax.plot(df_79.measurement_tstamp, df_79.smoothed_tt)"
   ]
  },
  {
   "cell_type": "code",
   "execution_count": null,
   "metadata": {},
   "outputs": [],
   "source": [
    "fig, ax = plt.subplots()\n",
    "ax.plot(df_79.measurement_tstamp, df_79.travel_time_seconds)"
   ]
  },
  {
   "cell_type": "code",
   "execution_count": null,
   "metadata": {},
   "outputs": [],
   "source": [
    "df_merge['measurement_tstamp'] = pd.to_datetime(df_merge['measurement_tstamp']) \n",
    "df = add_time_cols(df_merge, 'measurement_tstamp')"
   ]
  },
  {
   "cell_type": "code",
   "execution_count": null,
   "metadata": {},
   "outputs": [],
   "source": [
    "# choose xd_id == 133749395\n",
    "# choose a single time i.e. 08:00:00\n",
    "# plot x = day, y = travel_time "
   ]
  }
 ],
 "metadata": {
  "kernelspec": {
   "display_name": "py39",
   "language": "python",
   "name": "python3"
  },
  "language_info": {
   "codemirror_mode": {
    "name": "ipython",
    "version": 3
   },
   "file_extension": ".py",
   "mimetype": "text/x-python",
   "name": "python",
   "nbconvert_exporter": "python",
   "pygments_lexer": "ipython3",
   "version": "3.9.16"
  },
  "orig_nbformat": 4,
  "vscode": {
   "interpreter": {
    "hash": "7c49d0ed03bc2eecec43a51e0c788ca54bec5ce4abfb5011225447e8c696cd58"
   }
  }
 },
 "nbformat": 4,
 "nbformat_minor": 2
}

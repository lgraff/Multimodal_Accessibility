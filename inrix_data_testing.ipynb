{
 "cells": [
  {
   "cell_type": "code",
   "execution_count": null,
   "metadata": {},
   "outputs": [],
   "source": [
    "import pandas as pd\n",
    "import numpy as np\n",
    "import matplotlib.pyplot as plt\n",
    "import os"
   ]
  },
  {
   "cell_type": "code",
   "execution_count": null,
   "metadata": {},
   "outputs": [],
   "source": [
    "# read data\n",
    "cwd = os.getcwd()\n",
    "filepath = os.path.join(cwd, 'Allegheny_sample_xd_part1', 'Allegheny_sample_xd_part1.csv')\n",
    "df = pd.read_csv(filepath)\n",
    "filepath = os.path.join(cwd, 'Allegheny_sample_xd_part1', 'XD_Identification.csv')\n",
    "df_xd = pd.read_csv(filepath)\n"
   ]
  },
  {
   "cell_type": "code",
   "execution_count": null,
   "metadata": {},
   "outputs": [],
   "source": [
    "df_xd.head()"
   ]
  },
  {
   "cell_type": "code",
   "execution_count": null,
   "metadata": {},
   "outputs": [],
   "source": [
    "# merge tt with id data\n",
    "df_merge = df.merge(df_xd, how='inner', left_on='xd_id', right_on='xd')"
   ]
  },
  {
   "cell_type": "code",
   "execution_count": null,
   "metadata": {},
   "outputs": [],
   "source": [
    "df_merge.head()"
   ]
  },
  {
   "cell_type": "code",
   "execution_count": null,
   "metadata": {},
   "outputs": [],
   "source": [
    "def add_time_cols(df, datetime_col):\n",
    "    df = df.copy()\n",
    "    df['month'] = df[datetime_col].dt.month\n",
    "    df['day'] = df[datetime_col].dt.day\n",
    "    df['time'] = df[datetime_col].dt.time\n",
    "    df['hour'] = df[datetime_col].dt.hour\n",
    "    df['minute'] = df[datetime_col].dt.minute\n",
    "    return df"
   ]
  },
  {
   "cell_type": "code",
   "execution_count": null,
   "metadata": {},
   "outputs": [],
   "source": [
    "# get variation across x hour period \n",
    "def intraday_variation(df, frc, hour_start, hour_end):\n",
    "    df = df.copy()\n",
    "    df = df[df['frc'] == frc]\n",
    "    condition = (df.day == 1) & (df.hour.between(hour_start,hour_end-1))  # day = 1 for a single representative day\n",
    "    df_time = df[condition]\n",
    "    df_grouped = df_time.groupby('measurement_tstamp').mean().reset_index()  # for the given frc, take the mean travel time at a timestamp\n",
    "    # make plot\n",
    "    fig, ax = plt.subplots()\n",
    "    ax.plot(df_grouped.measurement_tstamp, df_grouped.travel_time_seconds)\n",
    "    ax.set_title('FRC =' + str(frc))\n",
    "    ax.set_xlabel('time')\n",
    "    ax.set_ylabel('travel time (s)')\n",
    "    ax.tick_params(axis='x', rotation=90)"
   ]
  },
  {
   "cell_type": "code",
   "execution_count": null,
   "metadata": {},
   "outputs": [],
   "source": [
    "# add datetime columns\n",
    "df_merge['measurement_tstamp'] = pd.to_datetime(df_merge['measurement_tstamp']) \n",
    "df_merge = add_time_cols(df_merge, 'measurement_tstamp')\n",
    "for frc in range(1,2): # df_merge['frc'].unique().tolist():\n",
    "    print(frc)\n",
    "    intraday_variation(df_merge, frc, 7, 9)"
   ]
  },
  {
   "cell_type": "code",
   "execution_count": null,
   "metadata": {},
   "outputs": [],
   "source": [
    "def day2day_variation(df, frc, hour, minute):\n",
    "    df = df.copy()\n",
    "    df = df[df['frc'] == frc] # subset by frc\n",
    "    df = df[(df['hour']==hour) & (df['minute']==minute)]  # subset by hour and minute\n",
    "    df_day = df.groupby('day')[['measurement_tstamp','travel_time_seconds']].mean().sort_values(by='travel_time_seconds', ascending=True)\n",
    "    #df_day.reset_index(inplace=True)\n",
    "    #fig,ax = plt.subplots()\n",
    "    #ax.scatter(x=df_day.index, y=df_day['travel_time_seconds'])\n",
    "    minTT = df_day['travel_time_seconds'].min()\n",
    "    maxTT = df_day['travel_time_seconds'].max()\n",
    "    reliability_ratio = maxTT/minTT\n",
    "    #print(reliability_ratio)\n",
    "    return(reliability_ratio)"
   ]
  },
  {
   "cell_type": "code",
   "execution_count": null,
   "metadata": {},
   "outputs": [],
   "source": [
    "start_time = 7\n",
    "end_time = 9\n",
    "frc_hr_min = [(frc,hr,min) for frc in range(1,2) for hr in [start_time, end_time-1] for min in range(0,60,5)]\n",
    "rel_ratio = [day2day_variation(df_merge, frc, hr, min) for frc in range(1,2) for hr in [start_time, end_time-1] for min in range(0,60,5)]"
   ]
  },
  {
   "cell_type": "code",
   "execution_count": null,
   "metadata": {},
   "outputs": [],
   "source": [
    "# now find reliability i.e. 95th percentile travel time. use all 10 days\n",
    "#day2day_variation(df_merge)\n",
    "\n",
    "# test for 7:30\n",
    "hour = 7\n",
    "minute = 30\n",
    "df_specific_time = df_merge[(df_merge['hour']==7) & (df_merge['minute']==30)]\n",
    "df_specific_time.head()\n"
   ]
  },
  {
   "cell_type": "code",
   "execution_count": null,
   "metadata": {},
   "outputs": [],
   "source": [
    "df_specific_time = df_specific_time[df_specific_time['frc'] == frc]\n",
    "df_day = df_specific_time.groupby('day')[['measurement_tstamp','travel_time_seconds']].mean().sort_values(by='travel_time_seconds', ascending=True)\n",
    "#df_day.reset_index(inplace=True)\n",
    "fig,ax = plt.subplots()\n",
    "ax.scatter(x=df_day.index, y=df_day['travel_time_seconds'])\n",
    "minTT = df_day['travel_time_seconds'].min()\n",
    "maxTT = df_day['travel_time_seconds'].max()\n",
    "reliability_ratio = maxTT/minTT\n",
    "print(reliability_ratio)\n"
   ]
  },
  {
   "cell_type": "code",
   "execution_count": null,
   "metadata": {},
   "outputs": [],
   "source": [
    "condition = (df_test.day == 1) & (df_test.hour.between(7,9)) \n",
    "df_79 = df_test[condition]\n",
    "df_79['smoothed_tt'] = df_79['travel_time_seconds'].rolling(5).mean()\n",
    "fig, ax = plt.subplots()\n",
    "ax.plot(df_79.measurement_tstamp, df_79.smoothed_tt)"
   ]
  },
  {
   "cell_type": "code",
   "execution_count": null,
   "metadata": {},
   "outputs": [],
   "source": [
    "fig, ax = plt.subplots()\n",
    "ax.plot(df_79.measurement_tstamp, df_79.travel_time_seconds)"
   ]
  },
  {
   "cell_type": "code",
   "execution_count": null,
   "metadata": {},
   "outputs": [],
   "source": [
    "df_merge['measurement_tstamp'] = pd.to_datetime(df_merge['measurement_tstamp']) \n",
    "df = add_time_cols(df_merge, 'measurement_tstamp')"
   ]
  },
  {
   "cell_type": "code",
   "execution_count": null,
   "metadata": {},
   "outputs": [],
   "source": [
    "# choose xd_id == 133749395\n",
    "# choose a single time i.e. 08:00:00\n",
    "# plot x = day, y = travel_time "
   ]
  }
 ],
 "metadata": {
  "kernelspec": {
   "display_name": "spyder-env",
   "language": "python",
   "name": "python3"
  },
  "language_info": {
   "codemirror_mode": {
    "name": "ipython",
    "version": 3
   },
   "file_extension": ".py",
   "mimetype": "text/x-python",
   "name": "python",
   "nbconvert_exporter": "python",
   "pygments_lexer": "ipython3",
   "version": "3.10.5"
  },
  "orig_nbformat": 4,
  "vscode": {
   "interpreter": {
    "hash": "bdc2c5d6b22bfec7607ad9d0554ac94f08440b6dd5bf4225a6f749997c613834"
   }
  }
 },
 "nbformat": 4,
 "nbformat_minor": 2
}

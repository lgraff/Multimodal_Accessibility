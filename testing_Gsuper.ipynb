{
 "cells": [
  {
   "cell_type": "code",
   "execution_count": 1,
   "metadata": {},
   "outputs": [
    {
     "name": "stdout",
     "output_type": "stream",
     "text": [
      "Read successful\n"
     ]
    }
   ],
   "source": [
    "import networkx as nx\n",
    "import pickle\n",
    "import os\n",
    "import re\n",
    "import config as conf\n",
    "import util_functions as ut\n",
    "import pandas as pd\n",
    "import numpy as np\n",
    "from od_connector import od_cnx\n",
    "\n",
    "from IPython.core.interactiveshell import InteractiveShell\n",
    "InteractiveShell.ast_node_interactivity = \"all\"\n",
    "cwd = os.getcwd()"
   ]
  },
  {
   "cell_type": "code",
   "execution_count": 2,
   "metadata": {},
   "outputs": [],
   "source": [
    "with open(os.path.join(cwd, 'Data', 'Output_Data', 'G_super.pkl'), 'rb') as inp:\n",
    "    G_super = pickle.load(inp)"
   ]
  },
  {
   "cell_type": "code",
   "execution_count": 3,
   "metadata": {},
   "outputs": [],
   "source": [
    "# add t waiting nodes to the nidmap\n",
    "tw_nodes = [n for n in list(G_super.graph.nodes) if n.startswith('tw')]\n",
    "for tw in tw_nodes:\n",
    "    G_super.nid_map[max(G_super.nid_map.keys())+1] = tw"
   ]
  },
  {
   "cell_type": "code",
   "execution_count": 4,
   "metadata": {},
   "outputs": [
    {
     "data": {
      "text/plain": [
       "{'PT_traversal': 1.5,\n",
       " 'PT_wait': 2,\n",
       " 'TNC': 1.5,\n",
       " 'TNC_wait': 2,\n",
       " 'bike': 1,\n",
       " 'bs': 1,\n",
       " 'drive': 1.5,\n",
       " 'pb': 1,\n",
       " 'pv': 1.5,\n",
       " 'scoot': 1,\n",
       " 'walk': 1,\n",
       " 'zip': 1.5}"
      ]
     },
     "execution_count": 4,
     "metadata": {},
     "output_type": "execute_result"
    }
   ],
   "source": [
    "conf.config_data['Reliability_Params']"
   ]
  },
  {
   "cell_type": "code",
   "execution_count": 5,
   "metadata": {},
   "outputs": [],
   "source": [
    "tx_edges = G_super.transfer_edges\n",
    "pmx = [('ps','ps'),('bsd','ps'),('ps','bsd'),('ps','t'),('t','ps'),('t','bsd'),('bsd','t'), # permitted mode change\n",
    "           ('k','ps'),('k','t'),('k','bsd'),('ps','pb'),('pb','ps'),('ps','sc'),('sc','ps'),('k','sc'),\n",
    "           ('bsd','sc'), ('sc','bsd'), ('ps','zd'), ('bsd','zd'), ('t','zd'), ('sc','zd'),\n",
    "           ('kz','ps'),('kz','t'),('kz','bsd'),('kz','sc')]  "
   ]
  },
  {
   "cell_type": "code",
   "execution_count": 6,
   "metadata": {},
   "outputs": [],
   "source": [
    "tx_included = set()\n",
    "digitspattern = r'[0-9]'\n",
    "# Replace all of the digits in the string with an empty string.\n",
    "for e in tx_edges.keys():\n",
    "    mode1 = re.sub(digitspattern, '', e[0])\n",
    "    mode2 = re.sub(digitspattern, '', e[1])\n",
    "    tx = (mode1,mode2)\n",
    "    tx_included.add(tx)    "
   ]
  },
  {
   "cell_type": "code",
   "execution_count": 7,
   "metadata": {},
   "outputs": [],
   "source": [
    "# for e in G_super.transfer_edges.keys():\n",
    "#     if e[0].startswith('tw') & e[1].startswith('t'):\n",
    "#         print(G_super.transfer_edges[e])"
   ]
  },
  {
   "cell_type": "code",
   "execution_count": 8,
   "metadata": {},
   "outputs": [
    {
     "data": {
      "text/plain": [
       "{'W_od': 1.0,\n",
       " 'W_tx': 0.5,\n",
       " 'dst': [-79.91944888168011, 40.45228774674678],\n",
       " 'modes_included': ['bs', 'z', 'sc', 't', 'pt'],\n",
       " 'org': [-79.94868171046522, 40.416379503934145]}"
      ]
     },
     "execution_count": 8,
     "metadata": {},
     "output_type": "execute_result"
    }
   ],
   "source": [
    "conf.config_data['Supernetwork']"
   ]
  },
  {
   "cell_type": "code",
   "execution_count": 9,
   "metadata": {},
   "outputs": [
    {
     "name": "stdout",
     "output_type": "stream",
     "text": [
      "7789\n",
      "7790\n"
     ]
    }
   ],
   "source": [
    "# compile supernetwork with od-connectors\n",
    "# take the supernetwork as input, then output the supernetwork with od connectors\n",
    "cwd = os.getcwd()\n",
    "G_super_od = od_cnx(os.path.join(cwd, 'Data', 'Output_Data', 'G_super.pkl'),\n",
    "        conf.config_data['Supernetwork']['org'],\n",
    "        conf.config_data['Supernetwork']['dst'])\n"
   ]
  },
  {
   "cell_type": "code",
   "execution_count": 10,
   "metadata": {},
   "outputs": [
    {
     "name": "stderr",
     "output_type": "stream",
     "text": [
      "/home/lgraff/anaconda3/envs/py39/lib/python3.9/site-packages/pandas/core/dtypes/cast.py:127: ShapelyDeprecationWarning: The array interface is deprecated and will no longer work in Shapely 2.0. Convert the '.coords' to a numpy array instead.\n",
      "  arr = construct_1d_object_array_from_listlike(values)\n",
      "/home/lgraff/anaconda3/envs/py39/lib/python3.9/site-packages/pandas/core/dtypes/cast.py:1784: ShapelyDeprecationWarning: __len__ for multi-part geometries is deprecated and will be removed in Shapely 2.0. Check the length of the `geoms` property instead to get the  number of parts of a multi-part geometry.\n",
      "  result[:] = values\n"
     ]
    }
   ],
   "source": [
    "# also adjust the inverse nidmap\n",
    "inv_nid_map = dict(zip(G_super.nid_map.values(), G_super.nid_map.keys()))   \n",
    "\n",
    "# now convert to link cost file\n",
    "df_link = nx.to_pandas_edgelist(G_super.graph)\n",
    "cost_factors = ['avg_TT_sec', 'price', 'risk', 'reliability', 'discomfort']\n",
    "# check that lal columns are filled out -- complete\n",
    "for c in cost_factors:\n",
    "    col_name = '0_'+c\n",
    "    #print(df_link[col_name].isna().sum())"
   ]
  },
  {
   "cell_type": "code",
   "execution_count": 11,
   "metadata": {},
   "outputs": [
    {
     "name": "stdout",
     "output_type": "stream",
     "text": [
      "721\n"
     ]
    },
    {
     "data": {
      "text/plain": [
       "[<matplotlib.lines.Line2D at 0x7efbea39ecd0>]"
      ]
     },
     "execution_count": 11,
     "metadata": {},
     "output_type": "execute_result"
    },
    {
     "data": {
      "text/plain": [
       "[<matplotlib.lines.Line2D at 0x7efbea39e970>]"
      ]
     },
     "execution_count": 11,
     "metadata": {},
     "output_type": "execute_result"
    },
    {
     "data": {
      "text/plain": [
       "Text(0.5, 0, 'Time (seconds relative to 07:00AM)')"
      ]
     },
     "execution_count": 11,
     "metadata": {},
     "output_type": "execute_result"
    },
    {
     "data": {
      "text/plain": [
       "Text(0, 0.5, 'Travel time multiplier \\n (relative to baseline)')"
      ]
     },
     "execution_count": 11,
     "metadata": {},
     "output_type": "execute_result"
    },
    {
     "data": {
      "image/png": "[encoded data removed]",
      "text/plain": [
       "<Figure size 640x480 with 1 Axes>"
      ]
     },
     "metadata": {},
     "output_type": "display_data"
    }
   ],
   "source": [
    "#%%\n",
    "# Here we build the travel time multiplier as a function of time \n",
    "# some arbitary linear function\n",
    "import matplotlib.pyplot as plt\n",
    "len_period = int(conf.config_data['Time_Intervals']['len_period'])\n",
    "num_intervals = int(conf.config_data['Time_Intervals']['len_period'] / conf.config_data['Time_Intervals']['interval_spacing']) + 1\n",
    "print(num_intervals)\n",
    "x = np.linspace(0, len_period, num_intervals )  # x is time [min past] relative to 07:00 AM\n",
    "m = (1.5-1)/len_period # slope\n",
    "y = m*x + 1\n",
    "plt.plot(x, y, 'o', color='black', zorder=2);\n",
    "plt.plot(x, y, color='red', zorder=1);\n",
    "plt.xlabel('Time (seconds relative to 07:00AM)')\n",
    "plt.ylabel('Travel time multiplier \\n (relative to baseline)')"
   ]
  },
  {
   "cell_type": "code",
   "execution_count": 12,
   "metadata": {},
   "outputs": [],
   "source": [
    "cost_factors = ['avg_TT_sec', 'price', 'risk', 'reliability', 'discomfort']\n",
    "cost_factors_0 = ['0_' + c for c in cost_factors]\n",
    "cols_keep = ['source', 'target', 'mode_type'] + cost_factors_0\n",
    "df_link = df_link[cols_keep]\n",
    "cost_factor_cols = [str(i) +'_' + c for c in cost_factors for i in range(1,num_intervals)]\n",
    "#betas = betas #conf.config_data['Beta_Params']"
   ]
  },
  {
   "cell_type": "code",
   "execution_count": 13,
   "metadata": {},
   "outputs": [
    {
     "name": "stdout",
     "output_type": "stream",
     "text": [
      "['bs', 'w', 'z', 'sc', 't', 'board', 'alight', 'pt', 't_wait']\n"
     ]
    }
   ],
   "source": [
    "# for vehicle (non-active) modes, avg_TT_sec, reliability, and price depend on departure time. risk and discomfort are constant\n",
    "# for active modes (bike, bikeshare, scooter, walk), all cost factors are constant with time\n",
    "all_modes = df_link.mode_type.unique().tolist()\n",
    "print(all_modes)"
   ]
  },
  {
   "cell_type": "code",
   "execution_count": 14,
   "metadata": {},
   "outputs": [],
   "source": [
    "cost_attr_df_dict = {'avg_TT_sec':(), 'price':(), 'reliability':(), 'discomfort':(), 'risk':()}"
   ]
  },
  {
   "cell_type": "code",
   "execution_count": 15,
   "metadata": {},
   "outputs": [
    {
     "data": {
      "text/plain": [
       "(67478, 724)"
      ]
     },
     "execution_count": 15,
     "metadata": {},
     "output_type": "execute_result"
    }
   ],
   "source": [
    "# travel time columns\n",
    "cost_attr_name = 'avg_TT_sec'\n",
    "df_var = df_link[['source','target','mode_type','0_'+cost_attr_name]].copy()\n",
    "interval_cols = [str(n) + '_' + cost_attr_name for n in range(0,num_intervals)]\n",
    "static_tt_modes = ['bs','w','pb','sc','t_wait','alight']  \n",
    "dynamic_tt_modes = ['pv','z','t','pt','board']  \n",
    "tt_multiplier = y.copy()\n",
    "df_var_all = pd.DataFrame()\n",
    "\n",
    "for m in dynamic_tt_modes:\n",
    "    df_m = df_var[df_var['mode_type'] == m].copy()\n",
    "    data = [tt_multiplier[idx] * df_m['0_' + cost_attr_name] for idx in range(len(interval_cols))]\n",
    "    data = pd.concat(data, axis=1).set_axis(labels=interval_cols, axis=1)\n",
    "    data = pd.concat([df_m[['source','target','mode_type']], data], axis=1)\n",
    "    df_var_all = pd.concat([df_var_all, data], axis=0)\n",
    "\n",
    "for m in static_tt_modes:\n",
    "    df_m = df_var[df_var['mode_type'] == m].copy()\n",
    "    data = [df_m['0_' + cost_attr_name]] *  len(interval_cols)\n",
    "    data = pd.concat(data, axis=1).set_axis(labels=interval_cols, axis=1)\n",
    "    data = pd.concat([df_m[['source','target','mode_type']], data], axis=1)\n",
    "    df_var_all = pd.concat([df_var_all, data], axis=0)\n",
    "\n",
    "# also create the travel time df in units of 5 second multiples\n",
    "cost_attr_df_dict['avg_TT_sec'] = df_var_all.copy() \n",
    "df_tt_multiple = pd.DataFrame(np.around(cost_attr_df_dict['avg_TT_sec'][interval_cols].to_numpy()/5), columns=interval_cols).astype('int')\n",
    "df_tt_multiple = pd.concat([cost_attr_df_dict['avg_TT_sec'][['source','target','mode_type']], df_tt_multiple] ,axis=1)\n",
    "df_tt_multiple.shape"
   ]
  },
  {
   "cell_type": "code",
   "execution_count": 16,
   "metadata": {},
   "outputs": [],
   "source": [
    "# price columns\n",
    "cost_attr_name = 'price'\n",
    "df_var = df_link[['source','target','mode_type', '0_avg_TT_sec', '0_'+cost_attr_name]].copy()\n",
    "interval_cols = [str(n) + '_' + cost_attr_name for n in range(0,num_intervals)]\n",
    "fixed_price_modes = ['pv','pb', 'pt', 'board', 'alight', 'w','t_wait']  \n",
    "usage_price_modes = ['z','t','bs','sc']  \n",
    "usage_prices = conf.config_data['Price_Params']\n",
    "usage_prices = {'z':usage_prices['zip']['ppmin'], 't':usage_prices['TNC']['ppmin'], 'bs':usage_prices['bs']['ppmin'],\n",
    "                'sc':usage_prices['scoot']['ppmin']}\n",
    "tt_multiplier = y.copy()\n",
    "df_var_all = pd.DataFrame()\n",
    "\n",
    "for m in usage_price_modes:\n",
    "    df_m = df_var[df_var['mode_type'] == m].copy()\n",
    "    data = [df_m['0_' + 'price'] +   # fixed mileage component (for TNC)\n",
    "                tt_multiplier[idx] * usage_prices[m] / 60 * df_m['0_avg_TT_sec'] for idx in range(len(interval_cols))]\n",
    "    data = pd.concat(data, axis=1).set_axis(labels=interval_cols, axis=1)\n",
    "    data = pd.concat([df_m[['source','target','mode_type']], data], axis=1)\n",
    "    df_var_all = pd.concat([df_var_all, data], axis=0)\n",
    "\n",
    "for m in fixed_price_modes:\n",
    "    df_m = df_var[df_var['mode_type'] == m].copy()\n",
    "    data = [df_m['0_' + cost_attr_name]] *  len(interval_cols)\n",
    "    data = pd.concat(data, axis=1).set_axis(labels=interval_cols, axis=1)\n",
    "    data = pd.concat([df_m[['source','target','mode_type']], data], axis=1)\n",
    "    df_var_all = pd.concat([df_var_all, data], axis=0)\n",
    "\n",
    "cost_attr_df_dict['price'] = df_var_all.copy()"
   ]
  },
  {
   "cell_type": "code",
   "execution_count": 17,
   "metadata": {},
   "outputs": [],
   "source": [
    "# reliability\n",
    "modes = df_link['mode_type'].unique().tolist()\n",
    "cost_attr_name = 'reliability'\n",
    "df_var = df_link[['source','target','mode_type', '0_avg_TT_sec', '0_'+cost_attr_name]].copy()\n",
    "interval_cols = [str(n) + '_' + cost_attr_name for n in range(0,num_intervals)]\n",
    "rel_weights = conf.config_data['Reliability_Params']\n",
    "rel_weights = {'pt':rel_weights['PT_traversal'], 'board':rel_weights['PT_wait'], 't':rel_weights['TNC'],\n",
    "                'pb':rel_weights['pb'], 'pv':rel_weights['pv'], 'sc':rel_weights['scoot'], 'bs':rel_weights['bs'],\n",
    "                'z':rel_weights['zip'], 'w':rel_weights['walk'], 't_wait':rel_weights['TNC_wait'],\n",
    "                'sc_wait': 1.25,  # put this in the config file\n",
    "                'alight':1}\n",
    "tt_multiplier = y.copy()\n",
    "df_var_all = pd.DataFrame()  \n",
    "\n",
    "# special case: scooter transfers \n",
    "df_sc_tx = df_var[(df_var['mode_type'] == 'w') & (df_var['target'].str.startswith('sc'))].copy() # filter by rows going TO scooter\n",
    "data = [df_sc_tx['0_' + cost_attr_name]] *  len(interval_cols)\n",
    "data = pd.concat(data, axis=1).set_axis(labels=interval_cols, axis=1)\n",
    "data = pd.concat([df_sc_tx[['source','target','mode_type']], data], axis=1)\n",
    "df_var_all = pd.concat([df_var_all, data], axis=0)  \n",
    "\n",
    "# all other transfers / od cnx\n",
    "# note: we are using df_TT because it already has the time cost for each interval\n",
    "df_all_other = cost_attr_df_dict['avg_TT_sec'][~((cost_attr_df_dict['avg_TT_sec']['mode_type'] == 'w') & (cost_attr_df_dict['avg_TT_sec']['target'].str.startswith('sc')))]\n",
    "for m in modes:\n",
    "    # reliability is defined as reliability_coef * avg_tt, for all intervals\n",
    "    df_m = df_all_other[df_all_other['mode_type'] == m].copy()\n",
    "    data = [rel_weights[m] * df_m[str(i) + '_avg_TT_sec'] for i in range(len(interval_cols))]\n",
    "    data = pd.concat(data, axis=1).set_axis(labels=interval_cols, axis=1)\n",
    "    data = pd.concat([df_m[['source','target','mode_type']], data], axis=1)\n",
    "    df_var_all = pd.concat([df_var_all, data], axis=0)\n",
    "\n",
    "cost_attr_df_dict['reliability'] = df_var_all.copy()\n",
    "# TO DO: right now, tnc waiting time is constant by departure time. could think about changing it"
   ]
  },
  {
   "cell_type": "code",
   "execution_count": 18,
   "metadata": {},
   "outputs": [],
   "source": [
    "# add discomfort and risk. assume constant by departure interval\n",
    "for c in ['discomfort', 'risk']:\n",
    "    df_var = df_link[['source','target','mode_type','0_' + c]].copy()\n",
    "    interval_cols = [str(n) + '_' + c for n in range(0,num_intervals)]\n",
    "    data = [df_var['0_' + c]] *  len(interval_cols)\n",
    "    data = pd.concat(data, axis=1).set_axis(labels=interval_cols, axis=1)\n",
    "    data = pd.concat([df_var[['source','target','mode_type']], data], axis=1)\n",
    "    cost_attr_df_dict[c] = data"
   ]
  },
  {
   "cell_type": "code",
   "execution_count": 19,
   "metadata": {},
   "outputs": [],
   "source": [
    "for df in cost_attr_df_dict.values():\n",
    "    df.sort_values(by=['source','target','mode_type'], inplace=True)\n",
    "betas = conf.config_data['Beta_Params']  "
   ]
  },
  {
   "cell_type": "code",
   "execution_count": 20,
   "metadata": {},
   "outputs": [],
   "source": [
    "# best to do this in numpy\n",
    "cost_arrays = {c:() for c in cost_attr_df_dict.keys()}\n",
    "for c, df in cost_attr_df_dict.items():\n",
    "    cost_arrays[c] = df.drop(['source','target','mode_type'], axis=1).to_numpy()\n",
    "\n",
    "# **THIS IS THE STEP THAT MATTERS FOR SENSITIVITY ANALYSIS     \n",
    "cost_final = (betas['b_TT'] * cost_arrays['avg_TT_sec'] + betas['b_disc'] * cost_arrays['discomfort'] + betas['b_price'] * cost_arrays['price'] \n",
    "                + betas['b_rel'] * cost_arrays['reliability'] + betas['b_risk'] * cost_arrays['risk'])"
   ]
  },
  {
   "cell_type": "code",
   "execution_count": 21,
   "metadata": {},
   "outputs": [],
   "source": [
    "# back to pandas: map the source, target pair to its numerical representation. then append to the left of the array\n",
    "# map alphanumeric node names to their numeric names\n",
    "df_G = cost_attr_df_dict['avg_TT_sec'][['source','target']].applymap(lambda x: inv_nid_map[x])\n",
    "df_G.insert(0, 'linkID', df_G.index)\n",
    "#%% Prepare files for compatiblity with MAC-POSTS\n",
    "# 1) Create graph topology file\n",
    "filename = 'graph'\n",
    "np.savetxt(filename, df_G, fmt='%d', delimiter=' ')\n",
    "f = open(filename, 'r')\n",
    "log = f.readlines()\n",
    "f.close()\n",
    "log.insert(0, 'EdgeId FromNodeId ToNodeId\\n')\n",
    "f = open(filename, 'w')\n",
    "f.writelines(log)\n",
    "f.close()\n",
    "\n",
    "# 2) create link cost file \n",
    "filename = 'td_link_cost'\n",
    "\n",
    "linkID_array = df_G['linkID'].to_numpy().reshape((cost_final.shape[0],1))\n",
    "G_cost_final_array = np.hstack((linkID_array, cost_final))\n",
    "\n",
    "np.savetxt(filename, G_cost_final_array, fmt='%d ' + (num_intervals-1)*'%f ' + '%f')\n",
    "f = open(filename, 'r')\n",
    "log = f.readlines()\n",
    "f.close()\n",
    "log.insert(0, 'link_ID td_cost\\n')\n",
    "f = open(filename, 'w')\n",
    "f.writelines(log)\n",
    "f.close()\n",
    "\n",
    "# 3) time-dep travel time for each link and node (just TT, not full cost), in units of 5 second multiples\n",
    "# i.e. if the TT is 12 seconds, the cell entry is 12/5 = 2.4 ~= 2 (we round to the nearest integer) \n",
    "folder = os.getcwd()\n",
    "G_tt_multiple_array = np.hstack((linkID_array, df_tt_multiple.drop(columns=['source','target','mode_type']).to_numpy()))\n",
    "G_tt_multiple_array = G_tt_multiple_array.astype('int32')\n",
    "np.savetxt(os.path.join(folder, 'td_link_tt'), G_tt_multiple_array, fmt='%d ' + (num_intervals-1)*'%f ' + '%f')\n",
    "f = open(os.path.join(folder, 'td_link_tt'), 'r')\n",
    "log = f.readlines()\n",
    "f.close()\n",
    "log.insert(0, 'link_ID td_tt\\n')\n",
    "f = open(os.path.join(folder, 'td_link_tt'), 'w')\n",
    "f.writelines(log)\n",
    "f.close()"
   ]
  },
  {
   "cell_type": "code",
   "execution_count": 22,
   "metadata": {},
   "outputs": [],
   "source": [
    "# 3) # Create node cost df to prevent org-ps-ps or ps-ps-dst transfers\n",
    "link_id_map = dict(zip(tuple(zip(df_G['source'], df_G['target'])), df_G['linkID']))\n",
    "node_costs = []\n",
    "for n in list(G_super.graph.nodes):\n",
    "    edges_in = list(G_super.graph.in_edges(n))\n",
    "    edges_out = list(G_super.graph.out_edges(n))\n",
    "    for ei in edges_in:\n",
    "        ei_num = (inv_nid_map[ei[0]], inv_nid_map[ei[1]])\n",
    "        for eo in edges_out:            \n",
    "            eo_num = (inv_nid_map[eo[0]], inv_nid_map[eo[1]])\n",
    "            # prevent consecutive transfers (so avoids ps-ps-ps or bs-ps-ps)\n",
    "            if ((ut.mode(ei[0]), ut.mode(ei[1])) in G_super.pmx) & ((ut.mode(eo[0]), ut.mode(eo[1])) in G_super.pmx):\n",
    "                node_costs.append([inv_nid_map[n], link_id_map[ei_num], link_id_map[eo_num]])\n",
    "            # prevent od_cnx - transfer\n",
    "            if (ei[0].startswith('org')) & ((ut.mode(eo[0]), ut.mode(eo[1])) in G_super.pmx):  \n",
    "                node_costs.append([inv_nid_map[n], link_id_map[ei_num], link_id_map[eo_num]])\n",
    "            # prevent transfer - od_cnx\n",
    "            if ((ut.mode(ei[0]), ut.mode(ei[1])) in G_super.pmx) & (eo[1].startswith('dst')):  \n",
    "                node_costs.append([inv_nid_map[n], link_id_map[ei_num], link_id_map[eo_num]])   \n",
    "\n",
    "df_nodecost = pd.DataFrame(node_costs, columns = ['node_ID', 'in_link_ID', 'out_link_ID'])\n",
    "# for i in range(num_intervals):\n",
    "#     df_nodecost['interval'+str(i)+'_COST'] = 100000 # some arbitarily large number to prevent unwanted transfers\n",
    "\n",
    "# filename = 'td_node_cost'\n",
    "# np.savetxt(filename, df_nodecost, fmt='%d %d %d ' + (num_intervals-1)*'%d ' + '%d')    # note: i changed last do f's to d's \n",
    "# f = open(filename, 'r')\n",
    "# log = f.readlines()\n",
    "# f.close()\n",
    "# log.insert(0, 'node_ID in_link_ID out_link_ID td_cost\\n')\n",
    "# f = open(filename, 'w')\n",
    "# f.writelines(log)\n",
    "# f.close()"
   ]
  },
  {
   "cell_type": "code",
   "execution_count": 23,
   "metadata": {},
   "outputs": [
    {
     "data": {
      "text/plain": [
       "dtype('uint32')"
      ]
     },
     "execution_count": 23,
     "metadata": {},
     "output_type": "execute_result"
    },
    {
     "data": {
      "text/plain": [
       "pandas.core.frame.DataFrame"
      ]
     },
     "execution_count": 23,
     "metadata": {},
     "output_type": "execute_result"
    },
    {
     "data": {
      "text/plain": [
       "67222"
      ]
     },
     "execution_count": 23,
     "metadata": {},
     "output_type": "execute_result"
    }
   ],
   "source": [
    "#np.max(G_cost_final_array[:,3:])\n",
    "df_nodecost.to_numpy().astype('uint32').dtype\n",
    "type(df_nodecost)\n",
    "np.max(df_nodecost.to_numpy())"
   ]
  },
  {
   "cell_type": "code",
   "execution_count": 26,
   "metadata": {},
   "outputs": [
    {
     "ename": "",
     "evalue": "",
     "output_type": "error",
     "traceback": [
      "\u001b[1;31mThe Kernel crashed while executing code in the the current cell or a previous cell. Please review the code in the cell(s) to identify a possible cause of the failure. Click <a href='https://aka.ms/vscodeJupyterKernelCrash'>here</a> for more info. View Jupyter <a href='command:jupyter.viewOutput'>log</a> for further details."
     ]
    },
    {
     "ename": "",
     "evalue": "",
     "output_type": "error",
     "traceback": [
      "\u001b[1;31mCanceled future for execute_request message before replies were done"
     ]
    }
   ],
   "source": [
    "num_intervals = 100\n",
    "nodecost_array = np.hstack((df_nodecost.to_numpy().astype('uint32'), np.full((len(df_nodecost), 100), 250, dtype='uint8'))) \n",
    "#nodecost_array[:3,:3]\n",
    "filename = 'td_node_cost'\n",
    "np.savetxt(filename, nodecost_array, fmt='%d %d %d ' + (num_intervals-1)*'%f ' + '%f')    # note: i changed last do f's to d's \n",
    "f = open(filename, 'r')\n",
    "log = f.readlines()\n",
    "f.close()\n",
    "log.insert(0, 'node_ID in_link_ID out_link_ID td_cost\\n')\n",
    "f = open(filename, 'w')\n",
    "f.writelines(log)\n",
    "f.close()"
   ]
  },
  {
   "cell_type": "code",
   "execution_count": null,
   "metadata": {},
   "outputs": [],
   "source": []
  },
  {
   "cell_type": "code",
   "execution_count": null,
   "metadata": {},
   "outputs": [],
   "source": [
    "#nodecost_array = np.hstack(df_nodecost.to_numpy(), np.full((len(df_nodecost), num_intervals), 100000, dtype=int)) "
   ]
  },
  {
   "cell_type": "code",
   "execution_count": null,
   "metadata": {},
   "outputs": [],
   "source": [
    "\n",
    "# # create td_node_tt\n",
    "# td_node_tt = np.zeros((len(df_nodecost), num_intervals))\n",
    "# node_ID = df_nodecost[['node_ID', 'in_link_ID', 'out_link_ID']].to_numpy()\n",
    "# td_node_tt = np.concatenate((node_ID, td_node_tt), axis=1)\n",
    "# np.savetxt(os.path.join(folder, 'td_node_tt'), td_node_tt, fmt='%d %d %d ' + (num_intervals-1)*'%f ' + '%f')\n",
    "# f = open(os.path.join(folder, 'td_node_tt'), 'r')\n",
    "# log = f.readlines()\n",
    "# f.close()\n",
    "# log.insert(0, 'node_ID in_link_ID out_link_ID td_tt\\n')\n",
    "# f = open(os.path.join(folder, 'td_node_tt'), 'w')\n",
    "# f.writelines(log)\n",
    "# f.close()\n",
    "\n"
   ]
  },
  {
   "cell_type": "code",
   "execution_count": null,
   "metadata": {},
   "outputs": [],
   "source": [
    "# # travel time\n",
    "# df_tt = df_link[['source','target','mode_type','0_avg_TT_sec']].copy()\n",
    "# tt_interval_cols = [str(n) + '_avg_TT_sec' for n in range(0,num_intervals)]\n",
    "\n",
    "# df_tt_all = pd.DataFrame()\n",
    "# for m in all_modes:\n",
    "#     df_m = df_tt[df_tt['mode_type'] == m].copy()\n",
    "#     if m in dynamic_tt_modes:\n",
    "#         data = [y[idx] * df_m['0_avg_TT_sec'] for idx in range(len(tt_interval_cols))]\n",
    "#         data = pd.concat(data, axis=1).set_axis(labels=tt_interval_cols, axis=1)\n",
    "#         data = pd.concat([df_m[['source','target','mode_type']], data], axis=1)\n",
    "#     elif m in static_tt_modes:\n",
    "#         data = [df_m['0_avg_TT_sec']]*len(tt_interval_cols)\n",
    "#         data = pd.concat(data, axis=1).set_axis(labels=tt_interval_cols, axis=1)\n",
    "#         data = pd.concat([df_m[['source','target','mode_type']], data], axis=1)\n",
    "#     df_tt_all = pd.concat([df_tt_all, data], axis=0)\n",
    "\n",
    "# # also create the travel time df in units of 5 second multiples \n",
    "# df_tt_multiple = pd.DataFrame(np.around(df_tt_all[tt_interval_cols].to_numpy()/5), columns=tt_interval_cols).astype('int')\n",
    "# df_tt_multiple = pd.concat([df_tt_all[['source','target','mode_type']], df_tt_multiple] ,axis=1)\n",
    "# df_tt_multiple.shape\n",
    "# df_tt_all.shape"
   ]
  },
  {
   "cell_type": "code",
   "execution_count": null,
   "metadata": {},
   "outputs": [],
   "source": [
    "# # price\n",
    "# price_usage_modes = ['z','t','bs','sc']\n",
    "# price_fixed_modes = ['pt','board','alight','pb','w', 'pv']\n",
    "\n",
    "# usage_prices = conf.config_data['Price_Params']\n",
    "# usage_prices = {'z':usage_prices['zip']['ppmin'], 't':usage_prices['TNC']['ppmin'], 'bs':usage_prices['bs']['ppmin'],\n",
    "#                 'sc':usage_prices['scoot']['ppmin']}\n",
    "\n",
    "# #(TNC_ppmin / 60) * G_tnc.edges[e]['0'+'_avg_TT_sec']\n",
    "\n",
    "# df_price = df_link[['source','target','mode_type','0_avg_TT_sec', '0_price']].copy()\n",
    "# price_interval_cols = [str(n) + '_price' for n in range(0,num_intervals)]\n",
    "# df_price_all = pd.DataFrame()\n",
    "# for m in df_link.mode_type.unique().tolist():\n",
    "#     df_m = df_price[df_price['mode_type'] == m].copy()\n",
    "#     if m in price_usage_modes: \n",
    "#         use_price = usage_prices[m] / 60  # [s]\n",
    "#         data = [y[idx] * use_price * df_m['0_avg_TT_sec'] for idx in range(len(tt_interval_cols))]\n",
    "#         data = pd.concat(data, axis=1).set_axis(labels=price_interval_cols, axis=1)\n",
    "#         data = pd.concat([df_m[['source','target','mode_type']], data], axis=1)\n",
    "#     # elif m == 't':   # TNC exception (recognize the need to account for mileage)\n",
    "#     #     use_price = usage_prices[m] / 60  #[s]\n",
    "#     #     # 2 components: time price + static mileage price\n",
    "#     #     data = [(y[idx] * use_price * df_m['0_avg_TT_sec'] \n",
    "#     #              + (df_m['0_price'] - df_m['0_avg_TT_sec'] * use_price)) for idx in range(len(tt_interval_cols))]\n",
    "#     #     data = pd.concat(data, axis=1).set_axis(labels=price_interval_cols, axis=1)\n",
    "#     #     data = pd.concat([df_m[['source','target','mode_type']], data], axis=1) \n",
    "#     else:\n",
    "#         data = [df_m['0_price']]*len(price_interval_cols)\n",
    "#         data = pd.concat(data, axis=1).set_axis(labels=price_interval_cols, axis=1)\n",
    "#         data = pd.concat([df_m[['source','target','mode_type']], data], axis=1)\n",
    "#     df_price_all = pd.concat([df_price_all, data], axis=0)\n",
    "    "
   ]
  }
 ],
 "metadata": {
  "kernelspec": {
   "display_name": "Python 3.9.13 ('py39')",
   "language": "python",
   "name": "python3"
  },
  "language_info": {
   "codemirror_mode": {
    "name": "ipython",
    "version": 3
   },
   "file_extension": ".py",
   "mimetype": "text/x-python",
   "name": "python",
   "nbconvert_exporter": "python",
   "pygments_lexer": "ipython3",
   "version": "3.9.13"
  },
  "orig_nbformat": 4,
  "vscode": {
   "interpreter": {
    "hash": "462c637d1c2ec81eeaa2e111e7fa59c8d749ca79b31a490d2ec30dbc4681e2e5"
   }
  }
 },
 "nbformat": 4,
 "nbformat_minor": 2
}
